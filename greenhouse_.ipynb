{
  "nbformat": 4,
  "nbformat_minor": 0,
  "metadata": {
    "colab": {
      "name": "greenhouse_.ipynb",
      "provenance": []
    },
    "kernelspec": {
      "name": "python3",
      "display_name": "Python 3"
    },
    "language_info": {
      "name": "python"
    }
  },
  "cells": [
    {
      "cell_type": "code",
      "metadata": {
        "id": "RocQf9EyHVwg"
      },
      "source": [
        "import pandas as pd\n",
        "import seaborn as sns\n",
        "import matplotlib.pyplot as plt\n",
        "import statsmodels.api as sm\n",
        "import numpy as np\n",
        "\n",
        "plt.rcParams['figure.figsize'] = (12, 6)\n",
        "plt.style.use('fivethirtyeight')"
      ],
      "execution_count": null,
      "outputs": []
    },
    {
      "cell_type": "code",
      "metadata": {
        "id": "tuyLJa-VlsLL"
      },
      "source": [
        "PATH = '/content/drive/MyDrive/Colab Notebooks/data/greenhouse/'\n",
        "\n",
        "def wrangle(fname, PATH=PATH):\n",
        "  df = pd.read_csv(PATH+fname).set_index('year')\n",
        "  df = df.rename(columns={'data_mean_global':'mean_global'})\n",
        "  df = df.drop(columns=['data_mean_nh', 'data_mean_sh'])\n",
        "  df['model'] = fname[:-4]\n",
        "  return df"
      ],
      "execution_count": null,
      "outputs": []
    },
    {
      "cell_type": "code",
      "metadata": {
        "id": "OP8N6tp3UdyH",
        "colab": {
          "base_uri": "https://localhost:8080/",
          "height": 245
        },
        "outputId": "b98bbe86-1a24-43ef-e818-7c61391ff60d"
      },
      "source": [
        "#Berkeley Earth global temperatures\n",
        "global_temps = pd.read_csv(PATH+'GlobalTemperatures.csv').set_index('dt')\n",
        "global_temps.index = pd.to_datetime(global_temps.index)\n",
        "global_temps = global_temps.resample('Y').mean()\n",
        "global_temps.to_csv(PATH+'global_temps.csv')\n",
        "\n",
        "global_temps = pd.read_csv(PATH+'global_temps.csv').set_index('dt')"
      ],
      "execution_count": 1,
      "outputs": [
        {
          "output_type": "error",
          "ename": "NameError",
          "evalue": "ignored",
          "traceback": [
            "\u001b[0;31m---------------------------------------------------------------------------\u001b[0m",
            "\u001b[0;31mNameError\u001b[0m                                 Traceback (most recent call last)",
            "\u001b[0;32m<ipython-input-1-a77189fa6483>\u001b[0m in \u001b[0;36m<module>\u001b[0;34m()\u001b[0m\n\u001b[1;32m      1\u001b[0m \u001b[0;31m#Berkeley Earth global temperatures\u001b[0m\u001b[0;34m\u001b[0m\u001b[0;34m\u001b[0m\u001b[0;34m\u001b[0m\u001b[0m\n\u001b[0;32m----> 2\u001b[0;31m \u001b[0mglobal_temps\u001b[0m \u001b[0;34m=\u001b[0m \u001b[0mpd\u001b[0m\u001b[0;34m.\u001b[0m\u001b[0mread_csv\u001b[0m\u001b[0;34m(\u001b[0m\u001b[0mPATH\u001b[0m\u001b[0;34m+\u001b[0m\u001b[0;34m'GlobalTemperatures.csv'\u001b[0m\u001b[0;34m)\u001b[0m\u001b[0;34m.\u001b[0m\u001b[0mset_index\u001b[0m\u001b[0;34m(\u001b[0m\u001b[0;34m'dt'\u001b[0m\u001b[0;34m)\u001b[0m\u001b[0;34m\u001b[0m\u001b[0;34m\u001b[0m\u001b[0m\n\u001b[0m\u001b[1;32m      3\u001b[0m \u001b[0mglobal_temps\u001b[0m\u001b[0;34m.\u001b[0m\u001b[0mindex\u001b[0m \u001b[0;34m=\u001b[0m \u001b[0mpd\u001b[0m\u001b[0;34m.\u001b[0m\u001b[0mto_datetime\u001b[0m\u001b[0;34m(\u001b[0m\u001b[0mglobal_temps\u001b[0m\u001b[0;34m.\u001b[0m\u001b[0mindex\u001b[0m\u001b[0;34m)\u001b[0m\u001b[0;34m\u001b[0m\u001b[0;34m\u001b[0m\u001b[0m\n\u001b[1;32m      4\u001b[0m \u001b[0mglobal_temps\u001b[0m \u001b[0;34m=\u001b[0m \u001b[0mglobal_temps\u001b[0m\u001b[0;34m.\u001b[0m\u001b[0mresample\u001b[0m\u001b[0;34m(\u001b[0m\u001b[0;34m'Y'\u001b[0m\u001b[0;34m)\u001b[0m\u001b[0;34m.\u001b[0m\u001b[0mmean\u001b[0m\u001b[0;34m(\u001b[0m\u001b[0;34m)\u001b[0m\u001b[0;34m\u001b[0m\u001b[0;34m\u001b[0m\u001b[0m\n\u001b[1;32m      5\u001b[0m \u001b[0mglobal_temps\u001b[0m\u001b[0;34m.\u001b[0m\u001b[0mto_csv\u001b[0m\u001b[0;34m(\u001b[0m\u001b[0mPATH\u001b[0m\u001b[0;34m+\u001b[0m\u001b[0;34m'global_temps.csv'\u001b[0m\u001b[0;34m)\u001b[0m\u001b[0;34m\u001b[0m\u001b[0;34m\u001b[0m\u001b[0m\n",
            "\u001b[0;31mNameError\u001b[0m: name 'pd' is not defined"
          ]
        }
      ]
    },
    {
      "cell_type": "code",
      "metadata": {
        "id": "W40fDOVJKoXw"
      },
      "source": [
        "#nitrous oxide\n",
        "n2o = pd.concat([wrangle('n2o-hist.csv'), wrangle('n2o-119.csv'),\n",
        "                  wrangle('n2o-126.csv'), wrangle('n2o-245.csv'),\n",
        "                  wrangle('n2o-370.csv'), wrangle('n2o-370l.csv'),\n",
        "                  wrangle('n2o-434.csv'), wrangle('n2o-460.csv'),\n",
        "                  wrangle('n2o-534.csv'), wrangle('n2o-585.csv')])\n",
        "\n",
        "#carbon dioxide\n",
        "co2 = pd.concat([wrangle('co2-hist.csv'), wrangle('co2-119.csv'),\n",
        "                  wrangle('co2-126.csv'), wrangle('co2-245.csv'),\n",
        "                  wrangle('co2-370.csv'), wrangle('co2-370l.csv'),\n",
        "                  wrangle('co2-434.csv'), wrangle('co2-460.csv'),\n",
        "                  wrangle('co2-534.csv'), wrangle('co2-585.csv')])\n",
        "\n",
        "#methane\n",
        "ch4 = pd.concat([wrangle('ch4-hist.csv'), wrangle('ch4-119.csv'),\n",
        "                 wrangle('ch4-126.csv'), wrangle('ch4-245.csv'),\n",
        "                 wrangle('ch4-370.csv'), wrangle('ch4-370l.csv'),\n",
        "                 wrangle('ch4-434.csv'), wrangle('ch4-460.csv'),\n",
        "                 wrangle('ch4-534.csv'), wrangle('ch4-585.csv')])\n",
        "\n",
        "df = pd.concat([co2, n2o, ch4])"
      ],
      "execution_count": null,
      "outputs": []
    },
    {
      "cell_type": "code",
      "metadata": {
        "id": "WAzSxyEuiXoS"
      },
      "source": [
        "sns.lineplot(data=co2[co2.model=='co2-hist'])\n",
        "sns.lineplot(data=global_temps.iloc[:,2].resample('5Y').mean())\n",
        "plt.xlim(1000, 2015)\n",
        "plt.show()\n",
        "sns.lineplot(data=co2[co2.model!='co2-hist'])\n",
        "plt.xlim(2015, 2500)\n",
        "plt.show()"
      ],
      "execution_count": null,
      "outputs": []
    },
    {
      "cell_type": "code",
      "metadata": {
        "id": "_EvTtRY4mHKu"
      },
      "source": [
        "sns.lineplot(data=global_temps.iloc[:,[0,2,4]].resample('5Y').mean())\n",
        "plt.show()\n",
        "#sns.lineplot(data=global_temps.iloc[:,[1,3,5]].resample('5Y').mean())\n",
        "plt.show()"
      ],
      "execution_count": null,
      "outputs": []
    },
    {
      "cell_type": "code",
      "metadata": {
        "id": "KGP_vKPMhU8k"
      },
      "source": [
        "sns.lineplot(data=co2[co2.index<2015])\n",
        "plt.show()\n",
        "sns.lineplot(data=n2o[n2o.index<2015])\n",
        "plt.show()\n",
        "sns.lineplot(data=ch4[ch4.index<2015])\n",
        "plt.show()"
      ],
      "execution_count": null,
      "outputs": []
    },
    {
      "cell_type": "code",
      "metadata": {
        "id": "eMnRaHYBzJO2"
      },
      "source": [
        ""
      ],
      "execution_count": null,
      "outputs": []
    }
  ]
}