{
  "nbformat": 4,
  "nbformat_minor": 0,
  "metadata": {
    "colab": {
      "name": "time_series.ipynb",
      "provenance": [],
      "collapsed_sections": []
    },
    "kernelspec": {
      "name": "python3",
      "display_name": "Python 3"
    },
    "language_info": {
      "name": "python"
    }
  },
  "cells": [
    {
      "cell_type": "markdown",
      "metadata": {
        "id": "DFV3kCvyoUsu"
      },
      "source": [
        "# Exercises 1: Requests and JSON\n"
      ]
    },
    {
      "cell_type": "code",
      "metadata": {
        "id": "7v2c0kzsLfzV"
      },
      "source": [
        "import requests\n",
        "import pandas as pd\n",
        "\n",
        "#Mount GDrive in sidebar\n",
        "PATH = '/content/drive/MyDrive/Colab Notebooks/data/'\n",
        "url = 'https://python.zgulde.net/api/v1/'"
      ],
      "execution_count": null,
      "outputs": []
    },
    {
      "cell_type": "code",
      "metadata": {
        "colab": {
          "base_uri": "https://localhost:8080/"
        },
        "id": "HUQT1296QSZc",
        "outputId": "7cb8a151-2bbf-41a3-b5b1-dccd84d01a46"
      },
      "source": [
        "#how many pages in sales?\n",
        "data = requests.get(url+'sales').json()\n",
        "pages = data['payload']['max_page']\n",
        "pages"
      ],
      "execution_count": null,
      "outputs": [
        {
          "output_type": "execute_result",
          "data": {
            "text/plain": [
              "183"
            ]
          },
          "metadata": {},
          "execution_count": 115
        }
      ]
    },
    {
      "cell_type": "code",
      "metadata": {
        "id": "QEx1HxKEMFn1"
      },
      "source": [
        "def return_df(url, df_name):\n",
        "  data = requests.get(url + df_name).json()\n",
        "\n",
        "  if df_name == 'sales':\n",
        "    pages = data['payload']['max_page']\n",
        "    df = pd.DataFrame(data['payload'][df_name])\n",
        "\n",
        "    for p in range(2, pages+1):\n",
        "      url2 = url + df_name + f'?page={p}'\n",
        "      data = requests.get(url2).json()\n",
        "      df = pd.concat([df, pd.DataFrame(data['payload'][df_name])])\n",
        "  \n",
        "  else:\n",
        "    df = pd.DataFrame(data['payload'][df_name])\n",
        "\n",
        "  return df"
      ],
      "execution_count": null,
      "outputs": []
    },
    {
      "cell_type": "code",
      "metadata": {
        "id": "hp4WZORJMJlr"
      },
      "source": [
        "df_items = return_df(url, 'items')\n",
        "#uncomment below to reload, takes about 5 minutes\n",
        "#df_sales = return_df(url, 'sales') \n",
        "df_stores = return_df(url, 'stores')"
      ],
      "execution_count": null,
      "outputs": []
    },
    {
      "cell_type": "code",
      "metadata": {
        "id": "ISNZxqQ5XMWK"
      },
      "source": [
        "#so id column matches column in sales\n",
        "df_stores.rename(columns={'store_id':'store'}, inplace=True)\n",
        "df_items.rename(columns={'item_id':'item'}, inplace=True)\n",
        "df_sales.rename(columns={'sale_id':'sale'}, inplace=True)"
      ],
      "execution_count": null,
      "outputs": []
    },
    {
      "cell_type": "code",
      "metadata": {
        "colab": {
          "base_uri": "https://localhost:8080/",
          "height": 487
        },
        "id": "b1jecGrsWCqq",
        "outputId": "15d25b4f-5c26-4a65-f5cc-bc2358b6a1b6"
      },
      "source": [
        "df = df_sales.merge(df_stores)\n",
        "df = df.merge(df_items)\n",
        "df.head()\n"
      ],
      "execution_count": null,
      "outputs": [
        {
          "output_type": "execute_result",
          "data": {
            "text/html": [
              "<div>\n",
              "<style scoped>\n",
              "    .dataframe tbody tr th:only-of-type {\n",
              "        vertical-align: middle;\n",
              "    }\n",
              "\n",
              "    .dataframe tbody tr th {\n",
              "        vertical-align: top;\n",
              "    }\n",
              "\n",
              "    .dataframe thead th {\n",
              "        text-align: right;\n",
              "    }\n",
              "</style>\n",
              "<table border=\"1\" class=\"dataframe\">\n",
              "  <thead>\n",
              "    <tr style=\"text-align: right;\">\n",
              "      <th></th>\n",
              "      <th>item</th>\n",
              "      <th>sale_amount</th>\n",
              "      <th>sale_date</th>\n",
              "      <th>sale</th>\n",
              "      <th>store</th>\n",
              "      <th>store_address</th>\n",
              "      <th>store_city</th>\n",
              "      <th>store_state</th>\n",
              "      <th>store_zipcode</th>\n",
              "      <th>item_brand</th>\n",
              "      <th>item_name</th>\n",
              "      <th>item_price</th>\n",
              "      <th>item_upc12</th>\n",
              "      <th>item_upc14</th>\n",
              "    </tr>\n",
              "  </thead>\n",
              "  <tbody>\n",
              "    <tr>\n",
              "      <th>0</th>\n",
              "      <td>1</td>\n",
              "      <td>13.0</td>\n",
              "      <td>Tue, 01 Jan 2013 00:00:00 GMT</td>\n",
              "      <td>1</td>\n",
              "      <td>1</td>\n",
              "      <td>12125 Alamo Ranch Pkwy</td>\n",
              "      <td>San Antonio</td>\n",
              "      <td>TX</td>\n",
              "      <td>78253</td>\n",
              "      <td>Riceland</td>\n",
              "      <td>Riceland American Jazmine Rice</td>\n",
              "      <td>0.84</td>\n",
              "      <td>35200264013</td>\n",
              "      <td>35200264013</td>\n",
              "    </tr>\n",
              "    <tr>\n",
              "      <th>1</th>\n",
              "      <td>1</td>\n",
              "      <td>11.0</td>\n",
              "      <td>Wed, 02 Jan 2013 00:00:00 GMT</td>\n",
              "      <td>2</td>\n",
              "      <td>1</td>\n",
              "      <td>12125 Alamo Ranch Pkwy</td>\n",
              "      <td>San Antonio</td>\n",
              "      <td>TX</td>\n",
              "      <td>78253</td>\n",
              "      <td>Riceland</td>\n",
              "      <td>Riceland American Jazmine Rice</td>\n",
              "      <td>0.84</td>\n",
              "      <td>35200264013</td>\n",
              "      <td>35200264013</td>\n",
              "    </tr>\n",
              "    <tr>\n",
              "      <th>2</th>\n",
              "      <td>1</td>\n",
              "      <td>14.0</td>\n",
              "      <td>Thu, 03 Jan 2013 00:00:00 GMT</td>\n",
              "      <td>3</td>\n",
              "      <td>1</td>\n",
              "      <td>12125 Alamo Ranch Pkwy</td>\n",
              "      <td>San Antonio</td>\n",
              "      <td>TX</td>\n",
              "      <td>78253</td>\n",
              "      <td>Riceland</td>\n",
              "      <td>Riceland American Jazmine Rice</td>\n",
              "      <td>0.84</td>\n",
              "      <td>35200264013</td>\n",
              "      <td>35200264013</td>\n",
              "    </tr>\n",
              "    <tr>\n",
              "      <th>3</th>\n",
              "      <td>1</td>\n",
              "      <td>13.0</td>\n",
              "      <td>Fri, 04 Jan 2013 00:00:00 GMT</td>\n",
              "      <td>4</td>\n",
              "      <td>1</td>\n",
              "      <td>12125 Alamo Ranch Pkwy</td>\n",
              "      <td>San Antonio</td>\n",
              "      <td>TX</td>\n",
              "      <td>78253</td>\n",
              "      <td>Riceland</td>\n",
              "      <td>Riceland American Jazmine Rice</td>\n",
              "      <td>0.84</td>\n",
              "      <td>35200264013</td>\n",
              "      <td>35200264013</td>\n",
              "    </tr>\n",
              "    <tr>\n",
              "      <th>4</th>\n",
              "      <td>1</td>\n",
              "      <td>10.0</td>\n",
              "      <td>Sat, 05 Jan 2013 00:00:00 GMT</td>\n",
              "      <td>5</td>\n",
              "      <td>1</td>\n",
              "      <td>12125 Alamo Ranch Pkwy</td>\n",
              "      <td>San Antonio</td>\n",
              "      <td>TX</td>\n",
              "      <td>78253</td>\n",
              "      <td>Riceland</td>\n",
              "      <td>Riceland American Jazmine Rice</td>\n",
              "      <td>0.84</td>\n",
              "      <td>35200264013</td>\n",
              "      <td>35200264013</td>\n",
              "    </tr>\n",
              "  </tbody>\n",
              "</table>\n",
              "</div>"
            ],
            "text/plain": [
              "   item  sale_amount  ...   item_upc12   item_upc14\n",
              "0     1         13.0  ...  35200264013  35200264013\n",
              "1     1         11.0  ...  35200264013  35200264013\n",
              "2     1         14.0  ...  35200264013  35200264013\n",
              "3     1         13.0  ...  35200264013  35200264013\n",
              "4     1         10.0  ...  35200264013  35200264013\n",
              "\n",
              "[5 rows x 14 columns]"
            ]
          },
          "metadata": {},
          "execution_count": 83
        }
      ]
    },
    {
      "cell_type": "code",
      "metadata": {
        "colab": {
          "base_uri": "https://localhost:8080/"
        },
        "id": "rIUD8tBtNMAR",
        "outputId": "4e4d2a94-1f26-4677-c978-e0b692536f63"
      },
      "source": [
        "df.shape"
      ],
      "execution_count": null,
      "outputs": [
        {
          "output_type": "execute_result",
          "data": {
            "text/plain": [
              "(365200, 14)"
            ]
          },
          "metadata": {},
          "execution_count": 84
        }
      ]
    },
    {
      "cell_type": "code",
      "metadata": {
        "id": "Ink_lyufYzNz"
      },
      "source": [
        "#save to drive (61 MB)\n",
        "df.to_csv(PATH + 'codeup_sales', index=False)"
      ],
      "execution_count": null,
      "outputs": []
    },
    {
      "cell_type": "markdown",
      "metadata": {
        "id": "u9aJ3SgBU3zh"
      },
      "source": [
        "Open Power Systems Data for Germany includes country-wide totals of electricity consumption, wind power production, and solar power production for 2006-2017."
      ]
    },
    {
      "cell_type": "code",
      "metadata": {
        "colab": {
          "base_uri": "https://localhost:8080/",
          "height": 206
        },
        "id": "oERzWkmyOiQH",
        "outputId": "1c6a52d4-ea2d-40d0-d8fc-c572e9c65c42"
      },
      "source": [
        "url =  'https://raw.githubusercontent.com/jenfly/opsd/master/opsd_germany_daily.csv'\n",
        "df2 = pd.read_csv(url)\n",
        "df2.head()"
      ],
      "execution_count": null,
      "outputs": [
        {
          "output_type": "execute_result",
          "data": {
            "text/html": [
              "<div>\n",
              "<style scoped>\n",
              "    .dataframe tbody tr th:only-of-type {\n",
              "        vertical-align: middle;\n",
              "    }\n",
              "\n",
              "    .dataframe tbody tr th {\n",
              "        vertical-align: top;\n",
              "    }\n",
              "\n",
              "    .dataframe thead th {\n",
              "        text-align: right;\n",
              "    }\n",
              "</style>\n",
              "<table border=\"1\" class=\"dataframe\">\n",
              "  <thead>\n",
              "    <tr style=\"text-align: right;\">\n",
              "      <th></th>\n",
              "      <th>Date</th>\n",
              "      <th>Consumption</th>\n",
              "      <th>Wind</th>\n",
              "      <th>Solar</th>\n",
              "      <th>Wind+Solar</th>\n",
              "    </tr>\n",
              "  </thead>\n",
              "  <tbody>\n",
              "    <tr>\n",
              "      <th>0</th>\n",
              "      <td>2006-01-01</td>\n",
              "      <td>1069.184</td>\n",
              "      <td>NaN</td>\n",
              "      <td>NaN</td>\n",
              "      <td>NaN</td>\n",
              "    </tr>\n",
              "    <tr>\n",
              "      <th>1</th>\n",
              "      <td>2006-01-02</td>\n",
              "      <td>1380.521</td>\n",
              "      <td>NaN</td>\n",
              "      <td>NaN</td>\n",
              "      <td>NaN</td>\n",
              "    </tr>\n",
              "    <tr>\n",
              "      <th>2</th>\n",
              "      <td>2006-01-03</td>\n",
              "      <td>1442.533</td>\n",
              "      <td>NaN</td>\n",
              "      <td>NaN</td>\n",
              "      <td>NaN</td>\n",
              "    </tr>\n",
              "    <tr>\n",
              "      <th>3</th>\n",
              "      <td>2006-01-04</td>\n",
              "      <td>1457.217</td>\n",
              "      <td>NaN</td>\n",
              "      <td>NaN</td>\n",
              "      <td>NaN</td>\n",
              "    </tr>\n",
              "    <tr>\n",
              "      <th>4</th>\n",
              "      <td>2006-01-05</td>\n",
              "      <td>1477.131</td>\n",
              "      <td>NaN</td>\n",
              "      <td>NaN</td>\n",
              "      <td>NaN</td>\n",
              "    </tr>\n",
              "  </tbody>\n",
              "</table>\n",
              "</div>"
            ],
            "text/plain": [
              "         Date  Consumption  Wind  Solar  Wind+Solar\n",
              "0  2006-01-01     1069.184   NaN    NaN         NaN\n",
              "1  2006-01-02     1380.521   NaN    NaN         NaN\n",
              "2  2006-01-03     1442.533   NaN    NaN         NaN\n",
              "3  2006-01-04     1457.217   NaN    NaN         NaN\n",
              "4  2006-01-05     1477.131   NaN    NaN         NaN"
            ]
          },
          "metadata": {},
          "execution_count": 93
        }
      ]
    },
    {
      "cell_type": "code",
      "metadata": {
        "id": "z8psCGb2aWPB"
      },
      "source": [
        "#save to drive (200 KB)\n",
        "df2.to_csv(PATH + 'codeup_power', index=False)"
      ],
      "execution_count": null,
      "outputs": []
    },
    {
      "cell_type": "markdown",
      "metadata": {
        "id": "g-amsRwWoIyE"
      },
      "source": [
        "# Exercises 2: Time Series in Pandas"
      ]
    },
    {
      "cell_type": "code",
      "metadata": {
        "id": "jTN4-M7sanRa"
      },
      "source": [
        "#!pip install vega_datasets\n",
        "\n",
        "import pandas as pd\n",
        "import numpy as np\n",
        "import matplotlib.pyplot as plt\n",
        "import seaborn as sns\n",
        "from vega_datasets import data\n",
        "\n",
        "sf = data.sf_temps()\n",
        "sea = data.seattle_weather()\n",
        "fly = data.flights_20k()\n",
        "\n",
        "sf = sf.set_index('date')\n",
        "sea = sea.set_index('date')\n",
        "fly = fly.set_index('date')"
      ],
      "execution_count": 295,
      "outputs": []
    },
    {
      "cell_type": "markdown",
      "metadata": {
        "id": "WmXaxo_cpAcF"
      },
      "source": [
        "San Francisco\n",
        "\n",
        "    Resample by the day and take the average temperature. Visualize the average temperature over time.\n",
        "    Write the code necessary to visualize the minimum temperature over time.\n",
        "    Write the code necessary to visualize the maximum temperature over time.\n",
        "    Which month is the coldest, on average?\n",
        "    Which month has the highest average temperature?\n",
        "    Resample by the day and calculate the min and max temp for the day (Hint: .agg(['min', 'max'])). Use this resampled dataframe to calculate the change in temperature for the day. Which month has the highest daily temperature variability?\n",
        "    Bonus: Visualize the daily min, average, and max temperature over time on a single line plot, i.e. the min, average, and maximum temperature should be 3 seperate lines."
      ]
    },
    {
      "cell_type": "code",
      "metadata": {
        "colab": {
          "base_uri": "https://localhost:8080/",
          "height": 238
        },
        "id": "CSTM4N6Sun4K",
        "outputId": "041dd08c-631d-4ae0-ee19-46e31f440681"
      },
      "source": [
        "#resample by new datetime index\n",
        "sf_daily = sf.resample('D').mean()\n",
        "sf_daily['min'] = sf.resample('D').min()\n",
        "sf_daily['max'] = sf.resample('D').max()\n",
        "\n",
        "sf_daily.head()\n"
      ],
      "execution_count": 230,
      "outputs": [
        {
          "output_type": "execute_result",
          "data": {
            "text/html": [
              "<div>\n",
              "<style scoped>\n",
              "    .dataframe tbody tr th:only-of-type {\n",
              "        vertical-align: middle;\n",
              "    }\n",
              "\n",
              "    .dataframe tbody tr th {\n",
              "        vertical-align: top;\n",
              "    }\n",
              "\n",
              "    .dataframe thead th {\n",
              "        text-align: right;\n",
              "    }\n",
              "</style>\n",
              "<table border=\"1\" class=\"dataframe\">\n",
              "  <thead>\n",
              "    <tr style=\"text-align: right;\">\n",
              "      <th></th>\n",
              "      <th>temp</th>\n",
              "      <th>min</th>\n",
              "      <th>max</th>\n",
              "    </tr>\n",
              "    <tr>\n",
              "      <th>date</th>\n",
              "      <th></th>\n",
              "      <th></th>\n",
              "      <th></th>\n",
              "    </tr>\n",
              "  </thead>\n",
              "  <tbody>\n",
              "    <tr>\n",
              "      <th>2010-01-01</th>\n",
              "      <td>49.170833</td>\n",
              "      <td>45.8</td>\n",
              "      <td>53.3</td>\n",
              "    </tr>\n",
              "    <tr>\n",
              "      <th>2010-01-02</th>\n",
              "      <td>49.304167</td>\n",
              "      <td>46.0</td>\n",
              "      <td>53.4</td>\n",
              "    </tr>\n",
              "    <tr>\n",
              "      <th>2010-01-03</th>\n",
              "      <td>49.391667</td>\n",
              "      <td>46.1</td>\n",
              "      <td>53.5</td>\n",
              "    </tr>\n",
              "    <tr>\n",
              "      <th>2010-01-04</th>\n",
              "      <td>49.445833</td>\n",
              "      <td>46.1</td>\n",
              "      <td>53.6</td>\n",
              "    </tr>\n",
              "    <tr>\n",
              "      <th>2010-01-05</th>\n",
              "      <td>49.491667</td>\n",
              "      <td>46.1</td>\n",
              "      <td>53.8</td>\n",
              "    </tr>\n",
              "  </tbody>\n",
              "</table>\n",
              "</div>"
            ],
            "text/plain": [
              "                 temp   min   max\n",
              "date                             \n",
              "2010-01-01  49.170833  45.8  53.3\n",
              "2010-01-02  49.304167  46.0  53.4\n",
              "2010-01-03  49.391667  46.1  53.5\n",
              "2010-01-04  49.445833  46.1  53.6\n",
              "2010-01-05  49.491667  46.1  53.8"
            ]
          },
          "metadata": {},
          "execution_count": 230
        }
      ]
    },
    {
      "cell_type": "code",
      "metadata": {
        "colab": {
          "base_uri": "https://localhost:8080/",
          "height": 336
        },
        "id": "Q6Z4hvIzu8XP",
        "outputId": "56f8cd04-1e77-4318-c847-99ed0c6066eb"
      },
      "source": [
        "plt.figure(figsize=(16,5))\n",
        "\n",
        "sns.lineplot(data=sf_daily, x='date', y='max', color='red')\n",
        "sns.lineplot(data=sf_daily, x='date', y='temp', color='green')\n",
        "sns.lineplot(data=sf_daily, x='date', y='min', color='blue')\n",
        "\n",
        "plt.title('Daily Temps in San Francisco in 2010', fontsize=13)\n",
        "plt.xlabel('')\n",
        "plt.ylabel('deg. F')\n",
        "plt.legend(['max','mean','min']);"
      ],
      "execution_count": 223,
      "outputs": [
        {
          "output_type": "display_data",
          "data": {
            "image/png": "[encoded data removed]",
            "text/plain": [
              "<Figure size 1152x360 with 1 Axes>"
            ]
          },
          "metadata": {
            "needs_background": "light"
          }
        }
      ]
    },
    {
      "cell_type": "code",
      "metadata": {
        "colab": {
          "base_uri": "https://localhost:8080/",
          "height": 457
        },
        "id": "S5_s4TVdpMGJ",
        "outputId": "99260a94-8e17-4802-cae7-ec2dc38f14ac"
      },
      "source": [
        "sf_monthly = sf.resample('M').mean()\n",
        "sf_monthly['min'] = sf.resample('M').min()\n",
        "sf_monthly['max'] = sf.resample('M').max()\n",
        "\n",
        "sf_monthly.index = sf_monthly.index.month_name()\n",
        "sf_monthly"
      ],
      "execution_count": 224,
      "outputs": [
        {
          "output_type": "execute_result",
          "data": {
            "text/html": [
              "<div>\n",
              "<style scoped>\n",
              "    .dataframe tbody tr th:only-of-type {\n",
              "        vertical-align: middle;\n",
              "    }\n",
              "\n",
              "    .dataframe tbody tr th {\n",
              "        vertical-align: top;\n",
              "    }\n",
              "\n",
              "    .dataframe thead th {\n",
              "        text-align: right;\n",
              "    }\n",
              "</style>\n",
              "<table border=\"1\" class=\"dataframe\">\n",
              "  <thead>\n",
              "    <tr style=\"text-align: right;\">\n",
              "      <th></th>\n",
              "      <th>temp</th>\n",
              "      <th>min</th>\n",
              "      <th>max</th>\n",
              "    </tr>\n",
              "    <tr>\n",
              "      <th>date</th>\n",
              "      <th></th>\n",
              "      <th></th>\n",
              "      <th></th>\n",
              "    </tr>\n",
              "  </thead>\n",
              "  <tbody>\n",
              "    <tr>\n",
              "      <th>January</th>\n",
              "      <td>49.984140</td>\n",
              "      <td>45.8</td>\n",
              "      <td>56.2</td>\n",
              "    </tr>\n",
              "    <tr>\n",
              "      <th>February</th>\n",
              "      <td>52.243899</td>\n",
              "      <td>46.9</td>\n",
              "      <td>58.6</td>\n",
              "    </tr>\n",
              "    <tr>\n",
              "      <th>March</th>\n",
              "      <td>53.956528</td>\n",
              "      <td>48.7</td>\n",
              "      <td>61.3</td>\n",
              "    </tr>\n",
              "    <tr>\n",
              "      <th>April</th>\n",
              "      <td>55.633056</td>\n",
              "      <td>49.3</td>\n",
              "      <td>64.3</td>\n",
              "    </tr>\n",
              "    <tr>\n",
              "      <th>May</th>\n",
              "      <td>57.970968</td>\n",
              "      <td>51.4</td>\n",
              "      <td>66.4</td>\n",
              "    </tr>\n",
              "    <tr>\n",
              "      <th>June</th>\n",
              "      <td>60.444722</td>\n",
              "      <td>53.7</td>\n",
              "      <td>69.7</td>\n",
              "    </tr>\n",
              "    <tr>\n",
              "      <th>July</th>\n",
              "      <td>61.765457</td>\n",
              "      <td>55.4</td>\n",
              "      <td>70.4</td>\n",
              "    </tr>\n",
              "    <tr>\n",
              "      <th>August</th>\n",
              "      <td>62.405376</td>\n",
              "      <td>56.6</td>\n",
              "      <td>72.2</td>\n",
              "    </tr>\n",
              "    <tr>\n",
              "      <th>September</th>\n",
              "      <td>62.487083</td>\n",
              "      <td>56.4</td>\n",
              "      <td>72.2</td>\n",
              "    </tr>\n",
              "    <tr>\n",
              "      <th>October</th>\n",
              "      <td>60.253091</td>\n",
              "      <td>53.4</td>\n",
              "      <td>70.6</td>\n",
              "    </tr>\n",
              "    <tr>\n",
              "      <th>November</th>\n",
              "      <td>55.185139</td>\n",
              "      <td>48.6</td>\n",
              "      <td>65.0</td>\n",
              "    </tr>\n",
              "    <tr>\n",
              "      <th>December</th>\n",
              "      <td>50.498253</td>\n",
              "      <td>45.6</td>\n",
              "      <td>57.5</td>\n",
              "    </tr>\n",
              "  </tbody>\n",
              "</table>\n",
              "</div>"
            ],
            "text/plain": [
              "                temp   min   max\n",
              "date                            \n",
              "January    49.984140  45.8  56.2\n",
              "February   52.243899  46.9  58.6\n",
              "March      53.956528  48.7  61.3\n",
              "April      55.633056  49.3  64.3\n",
              "May        57.970968  51.4  66.4\n",
              "June       60.444722  53.7  69.7\n",
              "July       61.765457  55.4  70.4\n",
              "August     62.405376  56.6  72.2\n",
              "September  62.487083  56.4  72.2\n",
              "October    60.253091  53.4  70.6\n",
              "November   55.185139  48.6  65.0\n",
              "December   50.498253  45.6  57.5"
            ]
          },
          "metadata": {},
          "execution_count": 224
        }
      ]
    },
    {
      "cell_type": "code",
      "metadata": {
        "colab": {
          "base_uri": "https://localhost:8080/",
          "height": 36
        },
        "id": "EAzzhslf0psm",
        "outputId": "82f3dab8-00da-4f98-bea2-d50f05333390"
      },
      "source": [
        "hottest_month = sf_monthly.iloc[np.argmax(sf_monthly.temp)].name\n",
        "coldest_month = sf_monthly.iloc[np.argmin(sf_monthly.temp)].name\n",
        "\n",
        "f'{hottest_month} is hottest. {coldest_month} is coldest'"
      ],
      "execution_count": 225,
      "outputs": [
        {
          "output_type": "execute_result",
          "data": {
            "application/vnd.google.colaboratory.intrinsic+json": {
              "type": "string"
            },
            "text/plain": [
              "'September is hottest. January is coldest'"
            ]
          },
          "metadata": {},
          "execution_count": 225
        }
      ]
    },
    {
      "cell_type": "code",
      "metadata": {
        "colab": {
          "base_uri": "https://localhost:8080/",
          "height": 336
        },
        "id": "yrdh_b8ipRrj",
        "outputId": "a5f64cd6-5763-43f2-9165-9f9d74e3585d"
      },
      "source": [
        "plt.figure(figsize=(16,5))\n",
        "\n",
        "sns.lineplot(data=sf_monthly, x='date', y='max', color='red')\n",
        "sns.lineplot(data=sf_monthly, x='date', y='temp', color='green')\n",
        "sns.lineplot(data=sf_monthly, x='date', y='min', color='blue')\n",
        "\n",
        "plt.title('Monthly Temps in San Francisco in 2010', fontsize=13)\n",
        "plt.xlabel('')\n",
        "plt.ylabel('deg. F')\n",
        "plt.legend(['max','mean','min']);"
      ],
      "execution_count": 226,
      "outputs": [
        {
          "output_type": "display_data",
          "data": {
            "image/png": "[encoded data removed]",
            "text/plain": [
              "<Figure size 1152x360 with 1 Axes>"
            ]
          },
          "metadata": {
            "needs_background": "light"
          }
        }
      ]
    },
    {
      "cell_type": "markdown",
      "metadata": {
        "id": "twtE9FHNp_Lh"
      },
      "source": [
        "Seattle\n",
        "\n",
        "    Which year and month combination has the highest amount of precipitation?\n",
        "    Visualize the amount of monthly precipitation over time.\n",
        "    Visualize the amount of wind over time. Choose a time interval you think is appropriate.\n",
        "    Which year-month combination is the windiest?\n",
        "    What's the sunniest year? (Hint: which day has the highest number of days where weather == sun?)\n",
        "    In which month does it rain the most?\n",
        "    Which month has the most number of days with a non-zero amount of precipitation?\n",
        "\n"
      ]
    },
    {
      "cell_type": "code",
      "metadata": {
        "colab": {
          "base_uri": "https://localhost:8080/",
          "height": 238
        },
        "id": "Yr7Sp1F4GtHa",
        "outputId": "20fcc132-d593-4de8-9cbe-eb7cab5330c6"
      },
      "source": [
        "sea.groupby('weather').count()"
      ],
      "execution_count": 253,
      "outputs": [
        {
          "output_type": "execute_result",
          "data": {
            "text/html": [
              "<div>\n",
              "<style scoped>\n",
              "    .dataframe tbody tr th:only-of-type {\n",
              "        vertical-align: middle;\n",
              "    }\n",
              "\n",
              "    .dataframe tbody tr th {\n",
              "        vertical-align: top;\n",
              "    }\n",
              "\n",
              "    .dataframe thead th {\n",
              "        text-align: right;\n",
              "    }\n",
              "</style>\n",
              "<table border=\"1\" class=\"dataframe\">\n",
              "  <thead>\n",
              "    <tr style=\"text-align: right;\">\n",
              "      <th></th>\n",
              "      <th>precipitation</th>\n",
              "      <th>temp_max</th>\n",
              "      <th>temp_min</th>\n",
              "      <th>wind</th>\n",
              "    </tr>\n",
              "    <tr>\n",
              "      <th>weather</th>\n",
              "      <th></th>\n",
              "      <th></th>\n",
              "      <th></th>\n",
              "      <th></th>\n",
              "    </tr>\n",
              "  </thead>\n",
              "  <tbody>\n",
              "    <tr>\n",
              "      <th>drizzle</th>\n",
              "      <td>54</td>\n",
              "      <td>54</td>\n",
              "      <td>54</td>\n",
              "      <td>54</td>\n",
              "    </tr>\n",
              "    <tr>\n",
              "      <th>fog</th>\n",
              "      <td>411</td>\n",
              "      <td>411</td>\n",
              "      <td>411</td>\n",
              "      <td>411</td>\n",
              "    </tr>\n",
              "    <tr>\n",
              "      <th>rain</th>\n",
              "      <td>259</td>\n",
              "      <td>259</td>\n",
              "      <td>259</td>\n",
              "      <td>259</td>\n",
              "    </tr>\n",
              "    <tr>\n",
              "      <th>snow</th>\n",
              "      <td>23</td>\n",
              "      <td>23</td>\n",
              "      <td>23</td>\n",
              "      <td>23</td>\n",
              "    </tr>\n",
              "    <tr>\n",
              "      <th>sun</th>\n",
              "      <td>714</td>\n",
              "      <td>714</td>\n",
              "      <td>714</td>\n",
              "      <td>714</td>\n",
              "    </tr>\n",
              "  </tbody>\n",
              "</table>\n",
              "</div>"
            ],
            "text/plain": [
              "         precipitation  temp_max  temp_min  wind\n",
              "weather                                         \n",
              "drizzle             54        54        54    54\n",
              "fog                411       411       411   411\n",
              "rain               259       259       259   259\n",
              "snow                23        23        23    23\n",
              "sun                714       714       714   714"
            ]
          },
          "metadata": {},
          "execution_count": 253
        }
      ]
    },
    {
      "cell_type": "code",
      "metadata": {
        "colab": {
          "base_uri": "https://localhost:8080/",
          "height": 238
        },
        "id": "RG1naXlvqMtN",
        "outputId": "fdfc012a-4332-4096-e8a3-ea6f4ffa644f"
      },
      "source": [
        "sea_monthly = sea.resample('M').mean()\n",
        "sea_monthly.index = sea_monthly.index.strftime('%Y-%m')\n",
        "sea_monthly.head()"
      ],
      "execution_count": 247,
      "outputs": [
        {
          "output_type": "execute_result",
          "data": {
            "text/html": [
              "<div>\n",
              "<style scoped>\n",
              "    .dataframe tbody tr th:only-of-type {\n",
              "        vertical-align: middle;\n",
              "    }\n",
              "\n",
              "    .dataframe tbody tr th {\n",
              "        vertical-align: top;\n",
              "    }\n",
              "\n",
              "    .dataframe thead th {\n",
              "        text-align: right;\n",
              "    }\n",
              "</style>\n",
              "<table border=\"1\" class=\"dataframe\">\n",
              "  <thead>\n",
              "    <tr style=\"text-align: right;\">\n",
              "      <th></th>\n",
              "      <th>precipitation</th>\n",
              "      <th>temp_max</th>\n",
              "      <th>temp_min</th>\n",
              "      <th>wind</th>\n",
              "    </tr>\n",
              "    <tr>\n",
              "      <th>date</th>\n",
              "      <th></th>\n",
              "      <th></th>\n",
              "      <th></th>\n",
              "      <th></th>\n",
              "    </tr>\n",
              "  </thead>\n",
              "  <tbody>\n",
              "    <tr>\n",
              "      <th>2012-01</th>\n",
              "      <td>5.590323</td>\n",
              "      <td>7.054839</td>\n",
              "      <td>1.541935</td>\n",
              "      <td>3.900000</td>\n",
              "    </tr>\n",
              "    <tr>\n",
              "      <th>2012-02</th>\n",
              "      <td>3.182759</td>\n",
              "      <td>9.275862</td>\n",
              "      <td>3.203448</td>\n",
              "      <td>3.903448</td>\n",
              "    </tr>\n",
              "    <tr>\n",
              "      <th>2012-03</th>\n",
              "      <td>5.903226</td>\n",
              "      <td>9.554839</td>\n",
              "      <td>2.838710</td>\n",
              "      <td>4.248387</td>\n",
              "    </tr>\n",
              "    <tr>\n",
              "      <th>2012-04</th>\n",
              "      <td>2.270000</td>\n",
              "      <td>14.873333</td>\n",
              "      <td>5.993333</td>\n",
              "      <td>3.373333</td>\n",
              "    </tr>\n",
              "    <tr>\n",
              "      <th>2012-05</th>\n",
              "      <td>1.683871</td>\n",
              "      <td>17.661290</td>\n",
              "      <td>8.190323</td>\n",
              "      <td>3.354839</td>\n",
              "    </tr>\n",
              "  </tbody>\n",
              "</table>\n",
              "</div>"
            ],
            "text/plain": [
              "         precipitation   temp_max  temp_min      wind\n",
              "date                                                 \n",
              "2012-01       5.590323   7.054839  1.541935  3.900000\n",
              "2012-02       3.182759   9.275862  3.203448  3.903448\n",
              "2012-03       5.903226   9.554839  2.838710  4.248387\n",
              "2012-04       2.270000  14.873333  5.993333  3.373333\n",
              "2012-05       1.683871  17.661290  8.190323  3.354839"
            ]
          },
          "metadata": {},
          "execution_count": 247
        }
      ]
    },
    {
      "cell_type": "code",
      "metadata": {
        "colab": {
          "base_uri": "https://localhost:8080/",
          "height": 362
        },
        "id": "PZ07oqdKH3dA",
        "outputId": "03d9101d-9184-4544-ed8c-130906cd3dd2"
      },
      "source": [
        "plt.figure(figsize=(16,5))\n",
        "\n",
        "sns.lineplot(data=sea_monthly, x='date', y='precipitation', color='blue')\n",
        "sns.lineplot(data=sea_monthly, x='date', y='wind', color='gray')\n",
        "\n",
        "plt.title('Monthly Precipitation & Wind in Seattle', fontsize=13)\n",
        "plt.xlabel('')\n",
        "plt.ylabel('inches / mph')\n",
        "plt.xticks(rotation=45)\n",
        "plt.legend(['precip.','wind']);"
      ],
      "execution_count": 264,
      "outputs": [
        {
          "output_type": "display_data",
          "data": {
            "image/png": "[encoded data removed]",
            "text/plain": [
              "<Figure size 1152x360 with 1 Axes>"
            ]
          },
          "metadata": {
            "needs_background": "light"
          }
        }
      ]
    },
    {
      "cell_type": "code",
      "metadata": {
        "colab": {
          "base_uri": "https://localhost:8080/",
          "height": 36
        },
        "id": "01oYqbemGJ1T",
        "outputId": "33f6a99c-b2d9-4b7a-afca-432b4f0ca019"
      },
      "source": [
        "most_precipitation = sea_monthly.iloc[np.argmax(sea_monthly.precipitation)].name\n",
        "most_wind = sea_monthly.iloc[np.argmax(sea_monthly.wind)].name\n",
        "\n",
        "f'{most_precipitation} is rainiest/snowiest and {most_wind} is windiest'\n"
      ],
      "execution_count": 255,
      "outputs": [
        {
          "output_type": "execute_result",
          "data": {
            "application/vnd.google.colaboratory.intrinsic+json": {
              "type": "string"
            },
            "text/plain": [
              "'2015-12 is rainiest/snowiest and 2014-02 is windiest'"
            ]
          },
          "metadata": {},
          "execution_count": 255
        }
      ]
    },
    {
      "cell_type": "markdown",
      "metadata": {
        "id": "NIB_CsGQqCQ0"
      },
      "source": [
        "Flights\n",
        "\n",
        "    Convert any negative delays to 0.\n",
        "    Which hour of the day has the highest average delay?\n",
        "    Does the day of the week make a difference in the delay amount?\n",
        "    Does the month make a difference in the delay amount?\n",
        "\n"
      ]
    },
    {
      "cell_type": "code",
      "metadata": {
        "id": "5-szXWVwLO-V"
      },
      "source": [
        "delays = []\n",
        "for x in fly.delay:\n",
        "  delays.append(max(x, 0))\n",
        "  \n",
        "fly['delay'] = delays"
      ],
      "execution_count": 296,
      "outputs": []
    },
    {
      "cell_type": "code",
      "metadata": {
        "colab": {
          "base_uri": "https://localhost:8080/",
          "height": 238
        },
        "id": "CIFYrL96qHWW",
        "outputId": "9031cdf2-6e94-4d2f-e390-ee619f9c3f33"
      },
      "source": [
        "fly.head()"
      ],
      "execution_count": 297,
      "outputs": [
        {
          "output_type": "execute_result",
          "data": {
            "text/html": [
              "<div>\n",
              "<style scoped>\n",
              "    .dataframe tbody tr th:only-of-type {\n",
              "        vertical-align: middle;\n",
              "    }\n",
              "\n",
              "    .dataframe tbody tr th {\n",
              "        vertical-align: top;\n",
              "    }\n",
              "\n",
              "    .dataframe thead th {\n",
              "        text-align: right;\n",
              "    }\n",
              "</style>\n",
              "<table border=\"1\" class=\"dataframe\">\n",
              "  <thead>\n",
              "    <tr style=\"text-align: right;\">\n",
              "      <th></th>\n",
              "      <th>delay</th>\n",
              "      <th>distance</th>\n",
              "      <th>origin</th>\n",
              "      <th>destination</th>\n",
              "    </tr>\n",
              "    <tr>\n",
              "      <th>date</th>\n",
              "      <th></th>\n",
              "      <th></th>\n",
              "      <th></th>\n",
              "      <th></th>\n",
              "    </tr>\n",
              "  </thead>\n",
              "  <tbody>\n",
              "    <tr>\n",
              "      <th>2001-01-13 14:56:00</th>\n",
              "      <td>32</td>\n",
              "      <td>417</td>\n",
              "      <td>SAN</td>\n",
              "      <td>SJC</td>\n",
              "    </tr>\n",
              "    <tr>\n",
              "      <th>2001-01-31 16:40:00</th>\n",
              "      <td>0</td>\n",
              "      <td>1093</td>\n",
              "      <td>FLL</td>\n",
              "      <td>ISP</td>\n",
              "    </tr>\n",
              "    <tr>\n",
              "      <th>2001-02-11 18:39:00</th>\n",
              "      <td>3</td>\n",
              "      <td>293</td>\n",
              "      <td>LBB</td>\n",
              "      <td>DAL</td>\n",
              "    </tr>\n",
              "    <tr>\n",
              "      <th>2001-01-10 21:00:00</th>\n",
              "      <td>0</td>\n",
              "      <td>550</td>\n",
              "      <td>MSY</td>\n",
              "      <td>MCO</td>\n",
              "    </tr>\n",
              "    <tr>\n",
              "      <th>2001-03-30 21:45:00</th>\n",
              "      <td>0</td>\n",
              "      <td>229</td>\n",
              "      <td>STL</td>\n",
              "      <td>IND</td>\n",
              "    </tr>\n",
              "  </tbody>\n",
              "</table>\n",
              "</div>"
            ],
            "text/plain": [
              "                     delay  distance origin destination\n",
              "date                                                   \n",
              "2001-01-13 14:56:00     32       417    SAN         SJC\n",
              "2001-01-31 16:40:00      0      1093    FLL         ISP\n",
              "2001-02-11 18:39:00      3       293    LBB         DAL\n",
              "2001-01-10 21:00:00      0       550    MSY         MCO\n",
              "2001-03-30 21:45:00      0       229    STL         IND"
            ]
          },
          "metadata": {},
          "execution_count": 297
        }
      ]
    },
    {
      "cell_type": "code",
      "metadata": {
        "colab": {
          "base_uri": "https://localhost:8080/",
          "height": 36
        },
        "id": "Dg8nd6w_LmVW",
        "outputId": "a781bdd3-21ec-4cd5-c4dc-b602c680d969"
      },
      "source": [
        "fly_hourly = fly.groupby(fly.index.hour).mean()\n",
        "longest_wait = fly_hourly.iloc[np.argmax(fly_hourly.delay)].name\n",
        "\n",
        "f' Hour {longest_wait} of 24 has the longest avg. wait.'"
      ],
      "execution_count": 315,
      "outputs": [
        {
          "output_type": "execute_result",
          "data": {
            "application/vnd.google.colaboratory.intrinsic+json": {
              "type": "string"
            },
            "text/plain": [
              "' Hour 3 of 24 has the longest avg. wait.'"
            ]
          },
          "metadata": {},
          "execution_count": 315
        }
      ]
    },
    {
      "cell_type": "markdown",
      "metadata": {
        "id": "uVYP7HteQGTd"
      },
      "source": [
        "Monday (date 1) has the shortest avg. delay.\n",
        "\n",
        "Friday (date 5) has the longest avg. delay."
      ]
    },
    {
      "cell_type": "code",
      "metadata": {
        "colab": {
          "base_uri": "https://localhost:8080/",
          "height": 300
        },
        "id": "IxnkL0jbOZpK",
        "outputId": "d4c5c5ab-0b1e-46c0-9fcb-8f6e4cd40aaa"
      },
      "source": [
        "fly_by_day = fly.groupby(fly.index.strftime('%w')).mean()\n",
        "fly_by_day"
      ],
      "execution_count": 321,
      "outputs": [
        {
          "output_type": "execute_result",
          "data": {
            "text/html": [
              "<div>\n",
              "<style scoped>\n",
              "    .dataframe tbody tr th:only-of-type {\n",
              "        vertical-align: middle;\n",
              "    }\n",
              "\n",
              "    .dataframe tbody tr th {\n",
              "        vertical-align: top;\n",
              "    }\n",
              "\n",
              "    .dataframe thead th {\n",
              "        text-align: right;\n",
              "    }\n",
              "</style>\n",
              "<table border=\"1\" class=\"dataframe\">\n",
              "  <thead>\n",
              "    <tr style=\"text-align: right;\">\n",
              "      <th></th>\n",
              "      <th>delay</th>\n",
              "      <th>distance</th>\n",
              "    </tr>\n",
              "    <tr>\n",
              "      <th>date</th>\n",
              "      <th></th>\n",
              "      <th></th>\n",
              "    </tr>\n",
              "  </thead>\n",
              "  <tbody>\n",
              "    <tr>\n",
              "      <th>0</th>\n",
              "      <td>10.413542</td>\n",
              "      <td>507.987758</td>\n",
              "    </tr>\n",
              "    <tr>\n",
              "      <th>1</th>\n",
              "      <td>7.165772</td>\n",
              "      <td>505.032215</td>\n",
              "    </tr>\n",
              "    <tr>\n",
              "      <th>2</th>\n",
              "      <td>9.410866</td>\n",
              "      <td>496.021732</td>\n",
              "    </tr>\n",
              "    <tr>\n",
              "      <th>3</th>\n",
              "      <td>11.032478</td>\n",
              "      <td>501.009094</td>\n",
              "    </tr>\n",
              "    <tr>\n",
              "      <th>4</th>\n",
              "      <td>12.821322</td>\n",
              "      <td>485.175025</td>\n",
              "    </tr>\n",
              "    <tr>\n",
              "      <th>5</th>\n",
              "      <td>17.757596</td>\n",
              "      <td>501.118230</td>\n",
              "    </tr>\n",
              "    <tr>\n",
              "      <th>6</th>\n",
              "      <td>8.431498</td>\n",
              "      <td>550.889031</td>\n",
              "    </tr>\n",
              "  </tbody>\n",
              "</table>\n",
              "</div>"
            ],
            "text/plain": [
              "          delay    distance\n",
              "date                       \n",
              "0     10.413542  507.987758\n",
              "1      7.165772  505.032215\n",
              "2      9.410866  496.021732\n",
              "3     11.032478  501.009094\n",
              "4     12.821322  485.175025\n",
              "5     17.757596  501.118230\n",
              "6      8.431498  550.889031"
            ]
          },
          "metadata": {},
          "execution_count": 321
        }
      ]
    },
    {
      "cell_type": "markdown",
      "metadata": {
        "id": "uillKuCSQ7sF"
      },
      "source": [
        "February has the longest delays.\n",
        "\n",
        "March has the shortest delays."
      ]
    },
    {
      "cell_type": "code",
      "metadata": {
        "colab": {
          "base_uri": "https://localhost:8080/",
          "height": 175
        },
        "id": "aNojPUqrPjTs",
        "outputId": "66e02ee8-4a1d-4120-e751-b41b88a5c9b6"
      },
      "source": [
        "fly_by_month = fly.groupby(fly.index.month_name()).mean()\n",
        "fly_by_month"
      ],
      "execution_count": 324,
      "outputs": [
        {
          "output_type": "execute_result",
          "data": {
            "text/html": [
              "<div>\n",
              "<style scoped>\n",
              "    .dataframe tbody tr th:only-of-type {\n",
              "        vertical-align: middle;\n",
              "    }\n",
              "\n",
              "    .dataframe tbody tr th {\n",
              "        vertical-align: top;\n",
              "    }\n",
              "\n",
              "    .dataframe thead th {\n",
              "        text-align: right;\n",
              "    }\n",
              "</style>\n",
              "<table border=\"1\" class=\"dataframe\">\n",
              "  <thead>\n",
              "    <tr style=\"text-align: right;\">\n",
              "      <th></th>\n",
              "      <th>delay</th>\n",
              "      <th>distance</th>\n",
              "    </tr>\n",
              "    <tr>\n",
              "      <th>date</th>\n",
              "      <th></th>\n",
              "      <th></th>\n",
              "    </tr>\n",
              "  </thead>\n",
              "  <tbody>\n",
              "    <tr>\n",
              "      <th>February</th>\n",
              "      <td>12.306106</td>\n",
              "      <td>511.156170</td>\n",
              "    </tr>\n",
              "    <tr>\n",
              "      <th>January</th>\n",
              "      <td>11.301592</td>\n",
              "      <td>500.391952</td>\n",
              "    </tr>\n",
              "    <tr>\n",
              "      <th>March</th>\n",
              "      <td>9.875287</td>\n",
              "      <td>504.712069</td>\n",
              "    </tr>\n",
              "  </tbody>\n",
              "</table>\n",
              "</div>"
            ],
            "text/plain": [
              "              delay    distance\n",
              "date                           \n",
              "February  12.306106  511.156170\n",
              "January   11.301592  500.391952\n",
              "March      9.875287  504.712069"
            ]
          },
          "metadata": {},
          "execution_count": 324
        }
      ]
    },
    {
      "cell_type": "markdown",
      "metadata": {
        "id": "F6AOHu6mRFGH"
      },
      "source": [
        "# Exercises 3: ?"
      ]
    },
    {
      "cell_type": "code",
      "metadata": {
        "id": "t7y58oMnQrpL"
      },
      "source": [
        ""
      ],
      "execution_count": null,
      "outputs": []
    }
  ]
}