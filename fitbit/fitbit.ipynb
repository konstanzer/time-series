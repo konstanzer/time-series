{
  "nbformat": 4,
  "nbformat_minor": 0,
  "metadata": {
    "colab": {
      "name": "fitbit.ipynb",
      "provenance": []
    },
    "kernelspec": {
      "name": "python3",
      "display_name": "Python 3"
    },
    "language_info": {
      "name": "python"
    }
  },
  "cells": [
    {
      "cell_type": "code",
      "metadata": {
        "colab": {
          "base_uri": "https://localhost:8080/"
        },
        "id": "5bc58ls0mDAL",
        "outputId": "0b4b803d-e0f7-4a12-de6f-7bdc054d12f8"
      },
      "source": [
        "from google.colab import drive\n",
        "drive.mount('/content/drive')\n",
        "\n",
        "PATH = '/content/drive/MyDrive/Colab Notebooks/data/fitbit/'\n",
        "\n",
        "import pandas as pd\n",
        "import numpy as np\n",
        "import matplotlib.pyplot as plt\n",
        "import seaborn as sns"
      ],
      "execution_count": 38,
      "outputs": [
        {
          "output_type": "stream",
          "name": "stdout",
          "text": [
            "Drive already mounted at /content/drive; to attempt to forcibly remount, call drive.mount(\"/content/drive\", force_remount=True).\n"
          ]
        }
      ]
    },
    {
      "cell_type": "markdown",
      "metadata": {
        "id": "F_nHd4cj3Mzf"
      },
      "source": [
        "# A Data Mystery\n",
        "\n",
        "What do you think these cryptic statements mean w.r.t. the data?\n",
        "\n",
        "* \"I mixed up the labels and have one extra!\"\n",
        "* \"I need to know what the missing next two weeks will look like.\"\n",
        "\n",
        "You know that,\n",
        "* Your company conducts drug trials, tests of fitness equipment, and \"very ethical\" human experiments.\n",
        "* Everyone in every experiment wears a fitbit.\n",
        "* Everyone on staff has a fitbit.\n",
        "\n",
        "Your assignment is,\n",
        "* Summarize the data and predict what is meant by the quotes above.\n",
        "* Make conclusions about the individual who generated the data.\n",
        "* Save predictions for \"missing two weeks\" in a .csv file\n",
        "* Present your findings in two slides."
      ]
    },
    {
      "cell_type": "markdown",
      "metadata": {
        "id": "3F420vvl5XLK"
      },
      "source": [
        "## Tidy data\n",
        "\n",
        "The following cell loads three .csv files I made from three Excel sheets after loading the original data in Excel. Because there were so many days without nutrition data, it didn't take very long."
      ]
    },
    {
      "cell_type": "code",
      "metadata": {
        "id": "nbkBqfHnnBGq"
      },
      "source": [
        "#the thousands argument saves some work\n",
        "acts = pd.read_csv(PATH + 'fitbit-activities.csv', thousands=',', index_col='Date')\n",
        "foods = pd.read_csv(PATH + 'fitbit-foods.csv', thousands=',')\n",
        "cals = pd.read_csv(PATH + 'fitbit-totals.csv',  thousands=',', index_col='Date')"
      ],
      "execution_count": 53,
      "outputs": []
    },
    {
      "cell_type": "markdown",
      "metadata": {
        "id": "xfivnGD293EI"
      },
      "source": [
        "## Summarize data"
      ]
    },
    {
      "cell_type": "code",
      "metadata": {
        "colab": {
          "base_uri": "https://localhost:8080/"
        },
        "id": "jj_N6xYr8j-Y",
        "outputId": "a0ea1410-063c-49c0-baf5-0286476739fe"
      },
      "source": [
        "acts.info()"
      ],
      "execution_count": 54,
      "outputs": [
        {
          "output_type": "stream",
          "name": "stdout",
          "text": [
            "<class 'pandas.core.frame.DataFrame'>\n",
            "Index: 216 entries, 2018-11-27 to 2018-04-26\n",
            "Data columns (total 9 columns):\n",
            " #   Column                  Non-Null Count  Dtype  \n",
            "---  ------                  --------------  -----  \n",
            " 0   Calories Burned         216 non-null    int64  \n",
            " 1   Steps                   216 non-null    int64  \n",
            " 2   Distance                216 non-null    float64\n",
            " 3   Floors                  216 non-null    int64  \n",
            " 4   Minutes Sedentary       216 non-null    int64  \n",
            " 5   Minutes Lightly Active  216 non-null    int64  \n",
            " 6   Minutes Fairly Active   216 non-null    int64  \n",
            " 7   Minutes Very Active     216 non-null    int64  \n",
            " 8   Activity Calories       216 non-null    int64  \n",
            "dtypes: float64(1), int64(8)\n",
            "memory usage: 16.9+ KB\n"
          ]
        }
      ]
    },
    {
      "cell_type": "code",
      "metadata": {
        "colab": {
          "base_uri": "https://localhost:8080/"
        },
        "id": "xt9IpTCF8DC5",
        "outputId": "786ae490-35ee-426a-d869-a5c5220ea7ee"
      },
      "source": [
        "acts.shape, foods.shape, cals.shape"
      ],
      "execution_count": 56,
      "outputs": [
        {
          "output_type": "execute_result",
          "data": {
            "text/plain": [
              "((216, 9), (52, 4), (8, 6))"
            ]
          },
          "metadata": {},
          "execution_count": 56
        }
      ]
    },
    {
      "cell_type": "code",
      "metadata": {
        "colab": {
          "base_uri": "https://localhost:8080/",
          "height": 255
        },
        "id": "YhVRO_C7opjR",
        "outputId": "7468b171-4d3c-4d27-f29f-918cd824471b"
      },
      "source": [
        "acts = acts.sort_values(by='Date')\n",
        "acts.tail()"
      ],
      "execution_count": 89,
      "outputs": [
        {
          "output_type": "execute_result",
          "data": {
            "text/html": [
              "<div>\n",
              "<style scoped>\n",
              "    .dataframe tbody tr th:only-of-type {\n",
              "        vertical-align: middle;\n",
              "    }\n",
              "\n",
              "    .dataframe tbody tr th {\n",
              "        vertical-align: top;\n",
              "    }\n",
              "\n",
              "    .dataframe thead th {\n",
              "        text-align: right;\n",
              "    }\n",
              "</style>\n",
              "<table border=\"1\" class=\"dataframe\">\n",
              "  <thead>\n",
              "    <tr style=\"text-align: right;\">\n",
              "      <th></th>\n",
              "      <th>Calories Burned</th>\n",
              "      <th>Steps</th>\n",
              "      <th>Distance</th>\n",
              "      <th>Floors</th>\n",
              "      <th>Minutes Sedentary</th>\n",
              "      <th>Minutes Lightly Active</th>\n",
              "      <th>Minutes Fairly Active</th>\n",
              "      <th>Minutes Very Active</th>\n",
              "      <th>Activity Calories</th>\n",
              "    </tr>\n",
              "    <tr>\n",
              "      <th>Date</th>\n",
              "      <th></th>\n",
              "      <th></th>\n",
              "      <th></th>\n",
              "      <th></th>\n",
              "      <th></th>\n",
              "      <th></th>\n",
              "      <th></th>\n",
              "      <th></th>\n",
              "      <th></th>\n",
              "    </tr>\n",
              "  </thead>\n",
              "  <tbody>\n",
              "    <tr>\n",
              "      <th>2018-11-23</th>\n",
              "      <td>3325</td>\n",
              "      <td>9602</td>\n",
              "      <td>4.53</td>\n",
              "      <td>16</td>\n",
              "      <td>660</td>\n",
              "      <td>269</td>\n",
              "      <td>23</td>\n",
              "      <td>12</td>\n",
              "      <td>1619</td>\n",
              "    </tr>\n",
              "    <tr>\n",
              "      <th>2018-11-24</th>\n",
              "      <td>4098</td>\n",
              "      <td>17004</td>\n",
              "      <td>9.20</td>\n",
              "      <td>23</td>\n",
              "      <td>532</td>\n",
              "      <td>217</td>\n",
              "      <td>13</td>\n",
              "      <td>100</td>\n",
              "      <td>2428</td>\n",
              "    </tr>\n",
              "    <tr>\n",
              "      <th>2018-11-25</th>\n",
              "      <td>3005</td>\n",
              "      <td>6921</td>\n",
              "      <td>3.26</td>\n",
              "      <td>11</td>\n",
              "      <td>614</td>\n",
              "      <td>281</td>\n",
              "      <td>3</td>\n",
              "      <td>6</td>\n",
              "      <td>1306</td>\n",
              "    </tr>\n",
              "    <tr>\n",
              "      <th>2018-11-26</th>\n",
              "      <td>3364</td>\n",
              "      <td>10563</td>\n",
              "      <td>5.64</td>\n",
              "      <td>20</td>\n",
              "      <td>587</td>\n",
              "      <td>210</td>\n",
              "      <td>10</td>\n",
              "      <td>42</td>\n",
              "      <td>1605</td>\n",
              "    </tr>\n",
              "    <tr>\n",
              "      <th>2018-11-27</th>\n",
              "      <td>3726</td>\n",
              "      <td>13420</td>\n",
              "      <td>6.29</td>\n",
              "      <td>7</td>\n",
              "      <td>650</td>\n",
              "      <td>196</td>\n",
              "      <td>12</td>\n",
              "      <td>78</td>\n",
              "      <td>2027</td>\n",
              "    </tr>\n",
              "  </tbody>\n",
              "</table>\n",
              "</div>"
            ],
            "text/plain": [
              "            Calories Burned  Steps  ...  Minutes Very Active  Activity Calories\n",
              "Date                                ...                                        \n",
              "2018-11-23             3325   9602  ...                   12               1619\n",
              "2018-11-24             4098  17004  ...                  100               2428\n",
              "2018-11-25             3005   6921  ...                    6               1306\n",
              "2018-11-26             3364  10563  ...                   42               1605\n",
              "2018-11-27             3726  13420  ...                   78               2027\n",
              "\n",
              "[5 rows x 9 columns]"
            ]
          },
          "metadata": {},
          "execution_count": 89
        }
      ]
    },
    {
      "cell_type": "markdown",
      "metadata": {
        "id": "7PD0l6L4A3cV"
      },
      "source": [
        "We know where the missing two weeks are now: end of June and beginning of July. But what about the mixed up labels?"
      ]
    },
    {
      "cell_type": "code",
      "metadata": {
        "id": "BcAHLsYP7PT3",
        "colab": {
          "base_uri": "https://localhost:8080/",
          "height": 374
        },
        "outputId": "49793ae6-361b-42c5-8551-21eb5f953de5"
      },
      "source": [
        "plt.figure(figsize=(18,5))\n",
        "\n",
        "sns.scatterplot(data=acts, x='Date', y='Calories Burned')\n",
        "\n",
        "plt.title('Calories Burned by Mystery Person, April-November 2018', fontsize=13)\n",
        "plt.xlabel('')\n",
        "plt.xticks(ticks=acts.index[range(0, len(acts), 7)], rotation=45);"
      ],
      "execution_count": 90,
      "outputs": [
        {
          "output_type": "display_data",
          "data": {
            "image/png": "[encoded data removed]",
            "text/plain": [
              "<Figure size 1296x360 with 1 Axes>"
            ]
          },
          "metadata": {
            "needs_background": "light"
          }
        }
      ]
    },
    {
      "cell_type": "code",
      "metadata": {
        "id": "HipFEi_P-uBL"
      },
      "source": [
        ""
      ],
      "execution_count": null,
      "outputs": []
    },
    {
      "cell_type": "code",
      "metadata": {
        "id": "vhHx-KRj-uDs"
      },
      "source": [
        ""
      ],
      "execution_count": null,
      "outputs": []
    },
    {
      "cell_type": "code",
      "metadata": {
        "id": "hhLHvkFj3a2R"
      },
      "source": [
        ""
      ],
      "execution_count": null,
      "outputs": []
    }
  ]
}